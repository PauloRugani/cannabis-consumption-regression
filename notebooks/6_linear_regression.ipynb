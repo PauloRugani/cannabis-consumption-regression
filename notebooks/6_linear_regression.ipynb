{
  "cells": [
    {
      "cell_type": "markdown",
      "id": "2b4857ab",
      "metadata": {
        "id": "2b4857ab"
      },
      "source": [
        "# Predict using **Multiple Linear Regression**"
      ]
    },
    {
      "cell_type": "code",
      "execution_count": 1,
      "id": "b1d53d8b",
      "metadata": {
        "id": "b1d53d8b"
      },
      "outputs": [],
      "source": [
        "import pandas as pd\n",
        "from sklearn.model_selection import train_test_split\n",
        "from sklearn.linear_model import LinearRegression\n",
        "from scipy import stats\n",
        "import statsmodels.formula.api as smf\n",
        "import statsmodels.stats.api as sms\n",
        "import matplotlib.pyplot as plt\n",
        "import seaborn as sns"
      ]
    },
    {
      "cell_type": "markdown",
      "id": "01b4bcd7",
      "metadata": {
        "id": "01b4bcd7"
      },
      "source": [
        "## Load Data"
      ]
    },
    {
      "cell_type": "code",
      "execution_count": 2,
      "id": "48ba3b89",
      "metadata": {
        "id": "48ba3b89"
      },
      "outputs": [],
      "source": [
        "norm_df = pd.read_csv('../data/processed/5_normalized_data.csv')\n",
        "smoten_df = pd.read_csv('../data/processed/5_smoten_data.csv')"
      ]
    },
    {
      "cell_type": "code",
      "execution_count": 3,
      "id": "985ae914",
      "metadata": {
        "colab": {
          "base_uri": "https://localhost:8080/",
          "height": 143
        },
        "id": "985ae914",
        "outputId": "c6f5b674-988d-4301-c2c0-02941b827e43"
      },
      "outputs": [
        {
          "data": {
            "text/html": [
              "<div>\n",
              "<style scoped>\n",
              "    .dataframe tbody tr th:only-of-type {\n",
              "        vertical-align: middle;\n",
              "    }\n",
              "\n",
              "    .dataframe tbody tr th {\n",
              "        vertical-align: top;\n",
              "    }\n",
              "\n",
              "    .dataframe thead th {\n",
              "        text-align: right;\n",
              "    }\n",
              "</style>\n",
              "<table border=\"1\" class=\"dataframe\">\n",
              "  <thead>\n",
              "    <tr style=\"text-align: right;\">\n",
              "      <th></th>\n",
              "      <th>Age</th>\n",
              "      <th>Gender</th>\n",
              "      <th>Education</th>\n",
              "      <th>Nscore</th>\n",
              "      <th>Escore</th>\n",
              "      <th>Oscore</th>\n",
              "      <th>AScore</th>\n",
              "      <th>Cscore</th>\n",
              "      <th>Impulsive</th>\n",
              "      <th>SS</th>\n",
              "      <th>Cannabis</th>\n",
              "    </tr>\n",
              "  </thead>\n",
              "  <tbody>\n",
              "    <tr>\n",
              "      <th>0</th>\n",
              "      <td>0.500963</td>\n",
              "      <td>0.99841</td>\n",
              "      <td>-2.111593</td>\n",
              "      <td>0.31287</td>\n",
              "      <td>-0.57545</td>\n",
              "      <td>-0.58331</td>\n",
              "      <td>-0.91699</td>\n",
              "      <td>-0.00665</td>\n",
              "      <td>-0.21712</td>\n",
              "      <td>-1.18084</td>\n",
              "      <td>0</td>\n",
              "    </tr>\n",
              "    <tr>\n",
              "      <th>1</th>\n",
              "      <td>-0.324019</td>\n",
              "      <td>0.99841</td>\n",
              "      <td>-2.549090</td>\n",
              "      <td>-0.67825</td>\n",
              "      <td>1.93886</td>\n",
              "      <td>1.43533</td>\n",
              "      <td>0.76096</td>\n",
              "      <td>-0.14277</td>\n",
              "      <td>-0.71126</td>\n",
              "      <td>-0.21575</td>\n",
              "      <td>4</td>\n",
              "    </tr>\n",
              "    <tr>\n",
              "      <th>2</th>\n",
              "      <td>0.500963</td>\n",
              "      <td>0.99841</td>\n",
              "      <td>0.075895</td>\n",
              "      <td>-0.46725</td>\n",
              "      <td>0.80523</td>\n",
              "      <td>-0.84732</td>\n",
              "      <td>-1.62090</td>\n",
              "      <td>-1.01450</td>\n",
              "      <td>-1.37983</td>\n",
              "      <td>0.40148</td>\n",
              "      <td>3</td>\n",
              "    </tr>\n",
              "  </tbody>\n",
              "</table>\n",
              "</div>"
            ],
            "text/plain": [
              "        Age   Gender  Education   Nscore   Escore   Oscore   AScore   Cscore  \\\n",
              "0  0.500963  0.99841  -2.111593  0.31287 -0.57545 -0.58331 -0.91699 -0.00665   \n",
              "1 -0.324019  0.99841  -2.549090 -0.67825  1.93886  1.43533  0.76096 -0.14277   \n",
              "2  0.500963  0.99841   0.075895 -0.46725  0.80523 -0.84732 -1.62090 -1.01450   \n",
              "\n",
              "   Impulsive       SS  Cannabis  \n",
              "0   -0.21712 -1.18084         0  \n",
              "1   -0.71126 -0.21575         4  \n",
              "2   -1.37983  0.40148         3  "
            ]
          },
          "execution_count": 3,
          "metadata": {},
          "output_type": "execute_result"
        }
      ],
      "source": [
        "norm_df.head(3)"
      ]
    },
    {
      "cell_type": "code",
      "execution_count": 4,
      "id": "b9d3c48e",
      "metadata": {
        "colab": {
          "base_uri": "https://localhost:8080/",
          "height": 143
        },
        "id": "b9d3c48e",
        "outputId": "5a0a8f9e-d641-4e68-d723-408d7162f4cd"
      },
      "outputs": [
        {
          "data": {
            "text/html": [
              "<div>\n",
              "<style scoped>\n",
              "    .dataframe tbody tr th:only-of-type {\n",
              "        vertical-align: middle;\n",
              "    }\n",
              "\n",
              "    .dataframe tbody tr th {\n",
              "        vertical-align: top;\n",
              "    }\n",
              "\n",
              "    .dataframe thead th {\n",
              "        text-align: right;\n",
              "    }\n",
              "</style>\n",
              "<table border=\"1\" class=\"dataframe\">\n",
              "  <thead>\n",
              "    <tr style=\"text-align: right;\">\n",
              "      <th></th>\n",
              "      <th>Age</th>\n",
              "      <th>Gender</th>\n",
              "      <th>Education</th>\n",
              "      <th>Nscore</th>\n",
              "      <th>Escore</th>\n",
              "      <th>Oscore</th>\n",
              "      <th>AScore</th>\n",
              "      <th>Cscore</th>\n",
              "      <th>Impulsive</th>\n",
              "      <th>SS</th>\n",
              "      <th>Cannabis</th>\n",
              "    </tr>\n",
              "  </thead>\n",
              "  <tbody>\n",
              "    <tr>\n",
              "      <th>0</th>\n",
              "      <td>0.500963</td>\n",
              "      <td>0.99841</td>\n",
              "      <td>-2.111593</td>\n",
              "      <td>0.31287</td>\n",
              "      <td>-0.57545</td>\n",
              "      <td>-0.58331</td>\n",
              "      <td>-0.91699</td>\n",
              "      <td>-0.00665</td>\n",
              "      <td>-0.21712</td>\n",
              "      <td>-1.18084</td>\n",
              "      <td>0</td>\n",
              "    </tr>\n",
              "    <tr>\n",
              "      <th>1</th>\n",
              "      <td>-0.324019</td>\n",
              "      <td>0.99841</td>\n",
              "      <td>-2.549090</td>\n",
              "      <td>-0.67825</td>\n",
              "      <td>1.93886</td>\n",
              "      <td>1.43533</td>\n",
              "      <td>0.76096</td>\n",
              "      <td>-0.14277</td>\n",
              "      <td>-0.71126</td>\n",
              "      <td>-0.21575</td>\n",
              "      <td>4</td>\n",
              "    </tr>\n",
              "    <tr>\n",
              "      <th>2</th>\n",
              "      <td>0.500963</td>\n",
              "      <td>0.99841</td>\n",
              "      <td>0.075895</td>\n",
              "      <td>-0.46725</td>\n",
              "      <td>0.80523</td>\n",
              "      <td>-0.84732</td>\n",
              "      <td>-1.62090</td>\n",
              "      <td>-1.01450</td>\n",
              "      <td>-1.37983</td>\n",
              "      <td>0.40148</td>\n",
              "      <td>3</td>\n",
              "    </tr>\n",
              "  </tbody>\n",
              "</table>\n",
              "</div>"
            ],
            "text/plain": [
              "        Age   Gender  Education   Nscore   Escore   Oscore   AScore   Cscore  \\\n",
              "0  0.500963  0.99841  -2.111593  0.31287 -0.57545 -0.58331 -0.91699 -0.00665   \n",
              "1 -0.324019  0.99841  -2.549090 -0.67825  1.93886  1.43533  0.76096 -0.14277   \n",
              "2  0.500963  0.99841   0.075895 -0.46725  0.80523 -0.84732 -1.62090 -1.01450   \n",
              "\n",
              "   Impulsive       SS  Cannabis  \n",
              "0   -0.21712 -1.18084         0  \n",
              "1   -0.71126 -0.21575         4  \n",
              "2   -1.37983  0.40148         3  "
            ]
          },
          "execution_count": 4,
          "metadata": {},
          "output_type": "execute_result"
        }
      ],
      "source": [
        "smoten_df.head(3)"
      ]
    },
    {
      "cell_type": "markdown",
      "id": "525e9fa4",
      "metadata": {
        "id": "525e9fa4"
      },
      "source": [
        "## Split Data"
      ]
    },
    {
      "cell_type": "markdown",
      "id": "d05b0049",
      "metadata": {
        "id": "d05b0049"
      },
      "source": [
        "### Norm Data"
      ]
    },
    {
      "cell_type": "code",
      "execution_count": 5,
      "id": "41e066e9",
      "metadata": {
        "colab": {
          "base_uri": "https://localhost:8080/",
          "height": 81
        },
        "id": "41e066e9",
        "outputId": "8b28fe5b-8134-4e0e-bfae-c00e4bba3fbd"
      },
      "outputs": [
        {
          "data": {
            "text/html": [
              "<div>\n",
              "<style scoped>\n",
              "    .dataframe tbody tr th:only-of-type {\n",
              "        vertical-align: middle;\n",
              "    }\n",
              "\n",
              "    .dataframe tbody tr th {\n",
              "        vertical-align: top;\n",
              "    }\n",
              "\n",
              "    .dataframe thead th {\n",
              "        text-align: right;\n",
              "    }\n",
              "</style>\n",
              "<table border=\"1\" class=\"dataframe\">\n",
              "  <thead>\n",
              "    <tr style=\"text-align: right;\">\n",
              "      <th></th>\n",
              "      <th>Age</th>\n",
              "      <th>Gender</th>\n",
              "      <th>Education</th>\n",
              "      <th>Nscore</th>\n",
              "      <th>Escore</th>\n",
              "      <th>Oscore</th>\n",
              "      <th>AScore</th>\n",
              "      <th>Cscore</th>\n",
              "      <th>Impulsive</th>\n",
              "      <th>SS</th>\n",
              "    </tr>\n",
              "  </thead>\n",
              "  <tbody>\n",
              "    <tr>\n",
              "      <th>0</th>\n",
              "      <td>0.500963</td>\n",
              "      <td>0.99841</td>\n",
              "      <td>-2.111593</td>\n",
              "      <td>0.31287</td>\n",
              "      <td>-0.57545</td>\n",
              "      <td>-0.58331</td>\n",
              "      <td>-0.91699</td>\n",
              "      <td>-0.00665</td>\n",
              "      <td>-0.21712</td>\n",
              "      <td>-1.18084</td>\n",
              "    </tr>\n",
              "  </tbody>\n",
              "</table>\n",
              "</div>"
            ],
            "text/plain": [
              "        Age   Gender  Education   Nscore   Escore   Oscore   AScore   Cscore  \\\n",
              "0  0.500963  0.99841  -2.111593  0.31287 -0.57545 -0.58331 -0.91699 -0.00665   \n",
              "\n",
              "   Impulsive       SS  \n",
              "0   -0.21712 -1.18084  "
            ]
          },
          "execution_count": 5,
          "metadata": {},
          "output_type": "execute_result"
        }
      ],
      "source": [
        "norm_target = norm_df['Cannabis']\n",
        "norm_feature = norm_df.drop('Cannabis', axis=1)\n",
        "norm_feature.head(1)"
      ]
    },
    {
      "cell_type": "code",
      "execution_count": 6,
      "id": "43caed3b",
      "metadata": {
        "colab": {
          "base_uri": "https://localhost:8080/"
        },
        "id": "43caed3b",
        "outputId": "1c6d755a-13a0-4635-c76c-182572e62319"
      },
      "outputs": [
        {
          "name": "stdout",
          "output_type": "stream",
          "text": [
            "Train shape: (1508, 10), Test shape: (377, 10)\n"
          ]
        }
      ],
      "source": [
        "X_train_norm, X_test_norm, y_train_norm, y_test_norm = train_test_split(norm_feature, norm_target, test_size=0.2, random_state=42)\n",
        "print(f'Train shape: {X_train_norm.shape}, Test shape: {X_test_norm.shape}')"
      ]
    },
    {
      "cell_type": "markdown",
      "id": "2152cb9f",
      "metadata": {
        "id": "2152cb9f"
      },
      "source": [
        "### SMOTEN Data"
      ]
    },
    {
      "cell_type": "code",
      "execution_count": 7,
      "id": "21fef603",
      "metadata": {
        "colab": {
          "base_uri": "https://localhost:8080/",
          "height": 81
        },
        "id": "21fef603",
        "outputId": "93dca32e-6035-469c-927a-6640ebba7efd"
      },
      "outputs": [
        {
          "data": {
            "text/html": [
              "<div>\n",
              "<style scoped>\n",
              "    .dataframe tbody tr th:only-of-type {\n",
              "        vertical-align: middle;\n",
              "    }\n",
              "\n",
              "    .dataframe tbody tr th {\n",
              "        vertical-align: top;\n",
              "    }\n",
              "\n",
              "    .dataframe thead th {\n",
              "        text-align: right;\n",
              "    }\n",
              "</style>\n",
              "<table border=\"1\" class=\"dataframe\">\n",
              "  <thead>\n",
              "    <tr style=\"text-align: right;\">\n",
              "      <th></th>\n",
              "      <th>Age</th>\n",
              "      <th>Gender</th>\n",
              "      <th>Education</th>\n",
              "      <th>Nscore</th>\n",
              "      <th>Escore</th>\n",
              "      <th>Oscore</th>\n",
              "      <th>AScore</th>\n",
              "      <th>Cscore</th>\n",
              "      <th>Impulsive</th>\n",
              "      <th>SS</th>\n",
              "    </tr>\n",
              "  </thead>\n",
              "  <tbody>\n",
              "    <tr>\n",
              "      <th>0</th>\n",
              "      <td>0.500963</td>\n",
              "      <td>0.99841</td>\n",
              "      <td>-2.111593</td>\n",
              "      <td>0.31287</td>\n",
              "      <td>-0.57545</td>\n",
              "      <td>-0.58331</td>\n",
              "      <td>-0.91699</td>\n",
              "      <td>-0.00665</td>\n",
              "      <td>-0.21712</td>\n",
              "      <td>-1.18084</td>\n",
              "    </tr>\n",
              "  </tbody>\n",
              "</table>\n",
              "</div>"
            ],
            "text/plain": [
              "        Age   Gender  Education   Nscore   Escore   Oscore   AScore   Cscore  \\\n",
              "0  0.500963  0.99841  -2.111593  0.31287 -0.57545 -0.58331 -0.91699 -0.00665   \n",
              "\n",
              "   Impulsive       SS  \n",
              "0   -0.21712 -1.18084  "
            ]
          },
          "execution_count": 7,
          "metadata": {},
          "output_type": "execute_result"
        }
      ],
      "source": [
        "smoten_target = smoten_df['Cannabis']\n",
        "smoten_feature = smoten_df.drop('Cannabis', axis=1)\n",
        "smoten_feature.head(1)"
      ]
    },
    {
      "cell_type": "code",
      "execution_count": 8,
      "id": "10ea2d96",
      "metadata": {
        "colab": {
          "base_uri": "https://localhost:8080/"
        },
        "id": "10ea2d96",
        "outputId": "b43a2a61-2cc4-430f-c5a0-3c4fa1108f11"
      },
      "outputs": [
        {
          "name": "stdout",
          "output_type": "stream",
          "text": [
            "Train shape: (2592, 10), Test shape: (649, 10)\n"
          ]
        }
      ],
      "source": [
        "X_train_smoten, X_test_smoten, y_train_smoten, y_test_smoten = train_test_split(smoten_feature, smoten_target, test_size=0.2, random_state=42)\n",
        "print(f'Train shape: {X_train_smoten.shape}, Test shape: {X_test_smoten.shape}')"
      ]
    },
    {
      "cell_type": "markdown",
      "id": "4b6f1bd8",
      "metadata": {
        "id": "4b6f1bd8"
      },
      "source": [
        "## Predict"
      ]
    },
    {
      "cell_type": "markdown",
      "id": "a70fd8f1",
      "metadata": {
        "id": "a70fd8f1"
      },
      "source": [
        "### Predict Norm Data"
      ]
    },
    {
      "cell_type": "code",
      "execution_count": 9,
      "id": "1e8ef7b0",
      "metadata": {
        "id": "1e8ef7b0"
      },
      "outputs": [],
      "source": [
        "linear_model = LinearRegression()"
      ]
    },
    {
      "cell_type": "code",
      "execution_count": 10,
      "id": "13f9725b",
      "metadata": {
        "colab": {
          "base_uri": "https://localhost:8080/",
          "height": 80
        },
        "id": "13f9725b",
        "outputId": "46c29a58-6024-455a-daf8-87e02318c0f3"
      },
      "outputs": [
        {
          "data": {
            "text/html": [
              "<style>#sk-container-id-1 {\n",
              "  /* Definition of color scheme common for light and dark mode */\n",
              "  --sklearn-color-text: #000;\n",
              "  --sklearn-color-text-muted: #666;\n",
              "  --sklearn-color-line: gray;\n",
              "  /* Definition of color scheme for unfitted estimators */\n",
              "  --sklearn-color-unfitted-level-0: #fff5e6;\n",
              "  --sklearn-color-unfitted-level-1: #f6e4d2;\n",
              "  --sklearn-color-unfitted-level-2: #ffe0b3;\n",
              "  --sklearn-color-unfitted-level-3: chocolate;\n",
              "  /* Definition of color scheme for fitted estimators */\n",
              "  --sklearn-color-fitted-level-0: #f0f8ff;\n",
              "  --sklearn-color-fitted-level-1: #d4ebff;\n",
              "  --sklearn-color-fitted-level-2: #b3dbfd;\n",
              "  --sklearn-color-fitted-level-3: cornflowerblue;\n",
              "\n",
              "  /* Specific color for light theme */\n",
              "  --sklearn-color-text-on-default-background: var(--sg-text-color, var(--theme-code-foreground, var(--jp-content-font-color1, black)));\n",
              "  --sklearn-color-background: var(--sg-background-color, var(--theme-background, var(--jp-layout-color0, white)));\n",
              "  --sklearn-color-border-box: var(--sg-text-color, var(--theme-code-foreground, var(--jp-content-font-color1, black)));\n",
              "  --sklearn-color-icon: #696969;\n",
              "\n",
              "  @media (prefers-color-scheme: dark) {\n",
              "    /* Redefinition of color scheme for dark theme */\n",
              "    --sklearn-color-text-on-default-background: var(--sg-text-color, var(--theme-code-foreground, var(--jp-content-font-color1, white)));\n",
              "    --sklearn-color-background: var(--sg-background-color, var(--theme-background, var(--jp-layout-color0, #111)));\n",
              "    --sklearn-color-border-box: var(--sg-text-color, var(--theme-code-foreground, var(--jp-content-font-color1, white)));\n",
              "    --sklearn-color-icon: #878787;\n",
              "  }\n",
              "}\n",
              "\n",
              "#sk-container-id-1 {\n",
              "  color: var(--sklearn-color-text);\n",
              "}\n",
              "\n",
              "#sk-container-id-1 pre {\n",
              "  padding: 0;\n",
              "}\n",
              "\n",
              "#sk-container-id-1 input.sk-hidden--visually {\n",
              "  border: 0;\n",
              "  clip: rect(1px 1px 1px 1px);\n",
              "  clip: rect(1px, 1px, 1px, 1px);\n",
              "  height: 1px;\n",
              "  margin: -1px;\n",
              "  overflow: hidden;\n",
              "  padding: 0;\n",
              "  position: absolute;\n",
              "  width: 1px;\n",
              "}\n",
              "\n",
              "#sk-container-id-1 div.sk-dashed-wrapped {\n",
              "  border: 1px dashed var(--sklearn-color-line);\n",
              "  margin: 0 0.4em 0.5em 0.4em;\n",
              "  box-sizing: border-box;\n",
              "  padding-bottom: 0.4em;\n",
              "  background-color: var(--sklearn-color-background);\n",
              "}\n",
              "\n",
              "#sk-container-id-1 div.sk-container {\n",
              "  /* jupyter's `normalize.less` sets `[hidden] { display: none; }`\n",
              "     but bootstrap.min.css set `[hidden] { display: none !important; }`\n",
              "     so we also need the `!important` here to be able to override the\n",
              "     default hidden behavior on the sphinx rendered scikit-learn.org.\n",
              "     See: https://github.com/scikit-learn/scikit-learn/issues/21755 */\n",
              "  display: inline-block !important;\n",
              "  position: relative;\n",
              "}\n",
              "\n",
              "#sk-container-id-1 div.sk-text-repr-fallback {\n",
              "  display: none;\n",
              "}\n",
              "\n",
              "div.sk-parallel-item,\n",
              "div.sk-serial,\n",
              "div.sk-item {\n",
              "  /* draw centered vertical line to link estimators */\n",
              "  background-image: linear-gradient(var(--sklearn-color-text-on-default-background), var(--sklearn-color-text-on-default-background));\n",
              "  background-size: 2px 100%;\n",
              "  background-repeat: no-repeat;\n",
              "  background-position: center center;\n",
              "}\n",
              "\n",
              "/* Parallel-specific style estimator block */\n",
              "\n",
              "#sk-container-id-1 div.sk-parallel-item::after {\n",
              "  content: \"\";\n",
              "  width: 100%;\n",
              "  border-bottom: 2px solid var(--sklearn-color-text-on-default-background);\n",
              "  flex-grow: 1;\n",
              "}\n",
              "\n",
              "#sk-container-id-1 div.sk-parallel {\n",
              "  display: flex;\n",
              "  align-items: stretch;\n",
              "  justify-content: center;\n",
              "  background-color: var(--sklearn-color-background);\n",
              "  position: relative;\n",
              "}\n",
              "\n",
              "#sk-container-id-1 div.sk-parallel-item {\n",
              "  display: flex;\n",
              "  flex-direction: column;\n",
              "}\n",
              "\n",
              "#sk-container-id-1 div.sk-parallel-item:first-child::after {\n",
              "  align-self: flex-end;\n",
              "  width: 50%;\n",
              "}\n",
              "\n",
              "#sk-container-id-1 div.sk-parallel-item:last-child::after {\n",
              "  align-self: flex-start;\n",
              "  width: 50%;\n",
              "}\n",
              "\n",
              "#sk-container-id-1 div.sk-parallel-item:only-child::after {\n",
              "  width: 0;\n",
              "}\n",
              "\n",
              "/* Serial-specific style estimator block */\n",
              "\n",
              "#sk-container-id-1 div.sk-serial {\n",
              "  display: flex;\n",
              "  flex-direction: column;\n",
              "  align-items: center;\n",
              "  background-color: var(--sklearn-color-background);\n",
              "  padding-right: 1em;\n",
              "  padding-left: 1em;\n",
              "}\n",
              "\n",
              "\n",
              "/* Toggleable style: style used for estimator/Pipeline/ColumnTransformer box that is\n",
              "clickable and can be expanded/collapsed.\n",
              "- Pipeline and ColumnTransformer use this feature and define the default style\n",
              "- Estimators will overwrite some part of the style using the `sk-estimator` class\n",
              "*/\n",
              "\n",
              "/* Pipeline and ColumnTransformer style (default) */\n",
              "\n",
              "#sk-container-id-1 div.sk-toggleable {\n",
              "  /* Default theme specific background. It is overwritten whether we have a\n",
              "  specific estimator or a Pipeline/ColumnTransformer */\n",
              "  background-color: var(--sklearn-color-background);\n",
              "}\n",
              "\n",
              "/* Toggleable label */\n",
              "#sk-container-id-1 label.sk-toggleable__label {\n",
              "  cursor: pointer;\n",
              "  display: flex;\n",
              "  width: 100%;\n",
              "  margin-bottom: 0;\n",
              "  padding: 0.5em;\n",
              "  box-sizing: border-box;\n",
              "  text-align: center;\n",
              "  align-items: start;\n",
              "  justify-content: space-between;\n",
              "  gap: 0.5em;\n",
              "}\n",
              "\n",
              "#sk-container-id-1 label.sk-toggleable__label .caption {\n",
              "  font-size: 0.6rem;\n",
              "  font-weight: lighter;\n",
              "  color: var(--sklearn-color-text-muted);\n",
              "}\n",
              "\n",
              "#sk-container-id-1 label.sk-toggleable__label-arrow:before {\n",
              "  /* Arrow on the left of the label */\n",
              "  content: \"▸\";\n",
              "  float: left;\n",
              "  margin-right: 0.25em;\n",
              "  color: var(--sklearn-color-icon);\n",
              "}\n",
              "\n",
              "#sk-container-id-1 label.sk-toggleable__label-arrow:hover:before {\n",
              "  color: var(--sklearn-color-text);\n",
              "}\n",
              "\n",
              "/* Toggleable content - dropdown */\n",
              "\n",
              "#sk-container-id-1 div.sk-toggleable__content {\n",
              "  display: none;\n",
              "  text-align: left;\n",
              "  /* unfitted */\n",
              "  background-color: var(--sklearn-color-unfitted-level-0);\n",
              "}\n",
              "\n",
              "#sk-container-id-1 div.sk-toggleable__content.fitted {\n",
              "  /* fitted */\n",
              "  background-color: var(--sklearn-color-fitted-level-0);\n",
              "}\n",
              "\n",
              "#sk-container-id-1 div.sk-toggleable__content pre {\n",
              "  margin: 0.2em;\n",
              "  border-radius: 0.25em;\n",
              "  color: var(--sklearn-color-text);\n",
              "  /* unfitted */\n",
              "  background-color: var(--sklearn-color-unfitted-level-0);\n",
              "}\n",
              "\n",
              "#sk-container-id-1 div.sk-toggleable__content.fitted pre {\n",
              "  /* unfitted */\n",
              "  background-color: var(--sklearn-color-fitted-level-0);\n",
              "}\n",
              "\n",
              "#sk-container-id-1 input.sk-toggleable__control:checked~div.sk-toggleable__content {\n",
              "  /* Expand drop-down */\n",
              "  display: block;\n",
              "  width: 100%;\n",
              "  overflow: visible;\n",
              "}\n",
              "\n",
              "#sk-container-id-1 input.sk-toggleable__control:checked~label.sk-toggleable__label-arrow:before {\n",
              "  content: \"▾\";\n",
              "}\n",
              "\n",
              "/* Pipeline/ColumnTransformer-specific style */\n",
              "\n",
              "#sk-container-id-1 div.sk-label input.sk-toggleable__control:checked~label.sk-toggleable__label {\n",
              "  color: var(--sklearn-color-text);\n",
              "  background-color: var(--sklearn-color-unfitted-level-2);\n",
              "}\n",
              "\n",
              "#sk-container-id-1 div.sk-label.fitted input.sk-toggleable__control:checked~label.sk-toggleable__label {\n",
              "  background-color: var(--sklearn-color-fitted-level-2);\n",
              "}\n",
              "\n",
              "/* Estimator-specific style */\n",
              "\n",
              "/* Colorize estimator box */\n",
              "#sk-container-id-1 div.sk-estimator input.sk-toggleable__control:checked~label.sk-toggleable__label {\n",
              "  /* unfitted */\n",
              "  background-color: var(--sklearn-color-unfitted-level-2);\n",
              "}\n",
              "\n",
              "#sk-container-id-1 div.sk-estimator.fitted input.sk-toggleable__control:checked~label.sk-toggleable__label {\n",
              "  /* fitted */\n",
              "  background-color: var(--sklearn-color-fitted-level-2);\n",
              "}\n",
              "\n",
              "#sk-container-id-1 div.sk-label label.sk-toggleable__label,\n",
              "#sk-container-id-1 div.sk-label label {\n",
              "  /* The background is the default theme color */\n",
              "  color: var(--sklearn-color-text-on-default-background);\n",
              "}\n",
              "\n",
              "/* On hover, darken the color of the background */\n",
              "#sk-container-id-1 div.sk-label:hover label.sk-toggleable__label {\n",
              "  color: var(--sklearn-color-text);\n",
              "  background-color: var(--sklearn-color-unfitted-level-2);\n",
              "}\n",
              "\n",
              "/* Label box, darken color on hover, fitted */\n",
              "#sk-container-id-1 div.sk-label.fitted:hover label.sk-toggleable__label.fitted {\n",
              "  color: var(--sklearn-color-text);\n",
              "  background-color: var(--sklearn-color-fitted-level-2);\n",
              "}\n",
              "\n",
              "/* Estimator label */\n",
              "\n",
              "#sk-container-id-1 div.sk-label label {\n",
              "  font-family: monospace;\n",
              "  font-weight: bold;\n",
              "  display: inline-block;\n",
              "  line-height: 1.2em;\n",
              "}\n",
              "\n",
              "#sk-container-id-1 div.sk-label-container {\n",
              "  text-align: center;\n",
              "}\n",
              "\n",
              "/* Estimator-specific */\n",
              "#sk-container-id-1 div.sk-estimator {\n",
              "  font-family: monospace;\n",
              "  border: 1px dotted var(--sklearn-color-border-box);\n",
              "  border-radius: 0.25em;\n",
              "  box-sizing: border-box;\n",
              "  margin-bottom: 0.5em;\n",
              "  /* unfitted */\n",
              "  background-color: var(--sklearn-color-unfitted-level-0);\n",
              "}\n",
              "\n",
              "#sk-container-id-1 div.sk-estimator.fitted {\n",
              "  /* fitted */\n",
              "  background-color: var(--sklearn-color-fitted-level-0);\n",
              "}\n",
              "\n",
              "/* on hover */\n",
              "#sk-container-id-1 div.sk-estimator:hover {\n",
              "  /* unfitted */\n",
              "  background-color: var(--sklearn-color-unfitted-level-2);\n",
              "}\n",
              "\n",
              "#sk-container-id-1 div.sk-estimator.fitted:hover {\n",
              "  /* fitted */\n",
              "  background-color: var(--sklearn-color-fitted-level-2);\n",
              "}\n",
              "\n",
              "/* Specification for estimator info (e.g. \"i\" and \"?\") */\n",
              "\n",
              "/* Common style for \"i\" and \"?\" */\n",
              "\n",
              ".sk-estimator-doc-link,\n",
              "a:link.sk-estimator-doc-link,\n",
              "a:visited.sk-estimator-doc-link {\n",
              "  float: right;\n",
              "  font-size: smaller;\n",
              "  line-height: 1em;\n",
              "  font-family: monospace;\n",
              "  background-color: var(--sklearn-color-background);\n",
              "  border-radius: 1em;\n",
              "  height: 1em;\n",
              "  width: 1em;\n",
              "  text-decoration: none !important;\n",
              "  margin-left: 0.5em;\n",
              "  text-align: center;\n",
              "  /* unfitted */\n",
              "  border: var(--sklearn-color-unfitted-level-1) 1pt solid;\n",
              "  color: var(--sklearn-color-unfitted-level-1);\n",
              "}\n",
              "\n",
              ".sk-estimator-doc-link.fitted,\n",
              "a:link.sk-estimator-doc-link.fitted,\n",
              "a:visited.sk-estimator-doc-link.fitted {\n",
              "  /* fitted */\n",
              "  border: var(--sklearn-color-fitted-level-1) 1pt solid;\n",
              "  color: var(--sklearn-color-fitted-level-1);\n",
              "}\n",
              "\n",
              "/* On hover */\n",
              "div.sk-estimator:hover .sk-estimator-doc-link:hover,\n",
              ".sk-estimator-doc-link:hover,\n",
              "div.sk-label-container:hover .sk-estimator-doc-link:hover,\n",
              ".sk-estimator-doc-link:hover {\n",
              "  /* unfitted */\n",
              "  background-color: var(--sklearn-color-unfitted-level-3);\n",
              "  color: var(--sklearn-color-background);\n",
              "  text-decoration: none;\n",
              "}\n",
              "\n",
              "div.sk-estimator.fitted:hover .sk-estimator-doc-link.fitted:hover,\n",
              ".sk-estimator-doc-link.fitted:hover,\n",
              "div.sk-label-container:hover .sk-estimator-doc-link.fitted:hover,\n",
              ".sk-estimator-doc-link.fitted:hover {\n",
              "  /* fitted */\n",
              "  background-color: var(--sklearn-color-fitted-level-3);\n",
              "  color: var(--sklearn-color-background);\n",
              "  text-decoration: none;\n",
              "}\n",
              "\n",
              "/* Span, style for the box shown on hovering the info icon */\n",
              ".sk-estimator-doc-link span {\n",
              "  display: none;\n",
              "  z-index: 9999;\n",
              "  position: relative;\n",
              "  font-weight: normal;\n",
              "  right: .2ex;\n",
              "  padding: .5ex;\n",
              "  margin: .5ex;\n",
              "  width: min-content;\n",
              "  min-width: 20ex;\n",
              "  max-width: 50ex;\n",
              "  color: var(--sklearn-color-text);\n",
              "  box-shadow: 2pt 2pt 4pt #999;\n",
              "  /* unfitted */\n",
              "  background: var(--sklearn-color-unfitted-level-0);\n",
              "  border: .5pt solid var(--sklearn-color-unfitted-level-3);\n",
              "}\n",
              "\n",
              ".sk-estimator-doc-link.fitted span {\n",
              "  /* fitted */\n",
              "  background: var(--sklearn-color-fitted-level-0);\n",
              "  border: var(--sklearn-color-fitted-level-3);\n",
              "}\n",
              "\n",
              ".sk-estimator-doc-link:hover span {\n",
              "  display: block;\n",
              "}\n",
              "\n",
              "/* \"?\"-specific style due to the `<a>` HTML tag */\n",
              "\n",
              "#sk-container-id-1 a.estimator_doc_link {\n",
              "  float: right;\n",
              "  font-size: 1rem;\n",
              "  line-height: 1em;\n",
              "  font-family: monospace;\n",
              "  background-color: var(--sklearn-color-background);\n",
              "  border-radius: 1rem;\n",
              "  height: 1rem;\n",
              "  width: 1rem;\n",
              "  text-decoration: none;\n",
              "  /* unfitted */\n",
              "  color: var(--sklearn-color-unfitted-level-1);\n",
              "  border: var(--sklearn-color-unfitted-level-1) 1pt solid;\n",
              "}\n",
              "\n",
              "#sk-container-id-1 a.estimator_doc_link.fitted {\n",
              "  /* fitted */\n",
              "  border: var(--sklearn-color-fitted-level-1) 1pt solid;\n",
              "  color: var(--sklearn-color-fitted-level-1);\n",
              "}\n",
              "\n",
              "/* On hover */\n",
              "#sk-container-id-1 a.estimator_doc_link:hover {\n",
              "  /* unfitted */\n",
              "  background-color: var(--sklearn-color-unfitted-level-3);\n",
              "  color: var(--sklearn-color-background);\n",
              "  text-decoration: none;\n",
              "}\n",
              "\n",
              "#sk-container-id-1 a.estimator_doc_link.fitted:hover {\n",
              "  /* fitted */\n",
              "  background-color: var(--sklearn-color-fitted-level-3);\n",
              "}\n",
              "\n",
              ".estimator-table summary {\n",
              "    padding: .5rem;\n",
              "    font-family: monospace;\n",
              "    cursor: pointer;\n",
              "}\n",
              "\n",
              ".estimator-table details[open] {\n",
              "    padding-left: 0.1rem;\n",
              "    padding-right: 0.1rem;\n",
              "    padding-bottom: 0.3rem;\n",
              "}\n",
              "\n",
              ".estimator-table .parameters-table {\n",
              "    margin-left: auto !important;\n",
              "    margin-right: auto !important;\n",
              "}\n",
              "\n",
              ".estimator-table .parameters-table tr:nth-child(odd) {\n",
              "    background-color: #fff;\n",
              "}\n",
              "\n",
              ".estimator-table .parameters-table tr:nth-child(even) {\n",
              "    background-color: #f6f6f6;\n",
              "}\n",
              "\n",
              ".estimator-table .parameters-table tr:hover {\n",
              "    background-color: #e0e0e0;\n",
              "}\n",
              "\n",
              ".estimator-table table td {\n",
              "    border: 1px solid rgba(106, 105, 104, 0.232);\n",
              "}\n",
              "\n",
              ".user-set td {\n",
              "    color:rgb(255, 94, 0);\n",
              "    text-align: left;\n",
              "}\n",
              "\n",
              ".user-set td.value pre {\n",
              "    color:rgb(255, 94, 0) !important;\n",
              "    background-color: transparent !important;\n",
              "}\n",
              "\n",
              ".default td {\n",
              "    color: black;\n",
              "    text-align: left;\n",
              "}\n",
              "\n",
              ".user-set td i,\n",
              ".default td i {\n",
              "    color: black;\n",
              "}\n",
              "\n",
              ".copy-paste-icon {\n",
              "    background-image: url(data:image/svg+xml;base64,PHN2ZyB4bWxucz0iaHR0cDovL3d3dy53My5vcmcvMjAwMC9zdmciIHZpZXdCb3g9IjAgMCA0NDggNTEyIj48IS0tIUZvbnQgQXdlc29tZSBGcmVlIDYuNy4yIGJ5IEBmb250YXdlc29tZSAtIGh0dHBzOi8vZm9udGF3ZXNvbWUuY29tIExpY2Vuc2UgLSBodHRwczovL2ZvbnRhd2Vzb21lLmNvbS9saWNlbnNlL2ZyZWUgQ29weXJpZ2h0IDIwMjUgRm9udGljb25zLCBJbmMuLS0+PHBhdGggZD0iTTIwOCAwTDMzMi4xIDBjMTIuNyAwIDI0LjkgNS4xIDMzLjkgMTQuMWw2Ny45IDY3LjljOSA5IDE0LjEgMjEuMiAxNC4xIDMzLjlMNDQ4IDMzNmMwIDI2LjUtMjEuNSA0OC00OCA0OGwtMTkyIDBjLTI2LjUgMC00OC0yMS41LTQ4LTQ4bDAtMjg4YzAtMjYuNSAyMS41LTQ4IDQ4LTQ4ek00OCAxMjhsODAgMCAwIDY0LTY0IDAgMCAyNTYgMTkyIDAgMC0zMiA2NCAwIDAgNDhjMCAyNi41LTIxLjUgNDgtNDggNDhMNDggNTEyYy0yNi41IDAtNDgtMjEuNS00OC00OEwwIDE3NmMwLTI2LjUgMjEuNS00OCA0OC00OHoiLz48L3N2Zz4=);\n",
              "    background-repeat: no-repeat;\n",
              "    background-size: 14px 14px;\n",
              "    background-position: 0;\n",
              "    display: inline-block;\n",
              "    width: 14px;\n",
              "    height: 14px;\n",
              "    cursor: pointer;\n",
              "}\n",
              "</style><body><div id=\"sk-container-id-1\" class=\"sk-top-container\"><div class=\"sk-text-repr-fallback\"><pre>LinearRegression()</pre><b>In a Jupyter environment, please rerun this cell to show the HTML representation or trust the notebook. <br />On GitHub, the HTML representation is unable to render, please try loading this page with nbviewer.org.</b></div><div class=\"sk-container\" hidden><div class=\"sk-item\"><div class=\"sk-estimator fitted sk-toggleable\"><input class=\"sk-toggleable__control sk-hidden--visually\" id=\"sk-estimator-id-1\" type=\"checkbox\" checked><label for=\"sk-estimator-id-1\" class=\"sk-toggleable__label fitted sk-toggleable__label-arrow\"><div><div>LinearRegression</div></div><div><a class=\"sk-estimator-doc-link fitted\" rel=\"noreferrer\" target=\"_blank\" href=\"https://scikit-learn.org/1.7/modules/generated/sklearn.linear_model.LinearRegression.html\">?<span>Documentation for LinearRegression</span></a><span class=\"sk-estimator-doc-link fitted\">i<span>Fitted</span></span></div></label><div class=\"sk-toggleable__content fitted\" data-param-prefix=\"\">\n",
              "        <div class=\"estimator-table\">\n",
              "            <details>\n",
              "                <summary>Parameters</summary>\n",
              "                <table class=\"parameters-table\">\n",
              "                  <tbody>\n",
              "                    \n",
              "        <tr class=\"default\">\n",
              "            <td><i class=\"copy-paste-icon\"\n",
              "                 onclick=\"copyToClipboard('fit_intercept',\n",
              "                          this.parentElement.nextElementSibling)\"\n",
              "            ></i></td>\n",
              "            <td class=\"param\">fit_intercept&nbsp;</td>\n",
              "            <td class=\"value\">True</td>\n",
              "        </tr>\n",
              "    \n",
              "\n",
              "        <tr class=\"default\">\n",
              "            <td><i class=\"copy-paste-icon\"\n",
              "                 onclick=\"copyToClipboard('copy_X',\n",
              "                          this.parentElement.nextElementSibling)\"\n",
              "            ></i></td>\n",
              "            <td class=\"param\">copy_X&nbsp;</td>\n",
              "            <td class=\"value\">True</td>\n",
              "        </tr>\n",
              "    \n",
              "\n",
              "        <tr class=\"default\">\n",
              "            <td><i class=\"copy-paste-icon\"\n",
              "                 onclick=\"copyToClipboard('tol',\n",
              "                          this.parentElement.nextElementSibling)\"\n",
              "            ></i></td>\n",
              "            <td class=\"param\">tol&nbsp;</td>\n",
              "            <td class=\"value\">1e-06</td>\n",
              "        </tr>\n",
              "    \n",
              "\n",
              "        <tr class=\"default\">\n",
              "            <td><i class=\"copy-paste-icon\"\n",
              "                 onclick=\"copyToClipboard('n_jobs',\n",
              "                          this.parentElement.nextElementSibling)\"\n",
              "            ></i></td>\n",
              "            <td class=\"param\">n_jobs&nbsp;</td>\n",
              "            <td class=\"value\">None</td>\n",
              "        </tr>\n",
              "    \n",
              "\n",
              "        <tr class=\"default\">\n",
              "            <td><i class=\"copy-paste-icon\"\n",
              "                 onclick=\"copyToClipboard('positive',\n",
              "                          this.parentElement.nextElementSibling)\"\n",
              "            ></i></td>\n",
              "            <td class=\"param\">positive&nbsp;</td>\n",
              "            <td class=\"value\">False</td>\n",
              "        </tr>\n",
              "    \n",
              "                  </tbody>\n",
              "                </table>\n",
              "            </details>\n",
              "        </div>\n",
              "    </div></div></div></div></div><script>function copyToClipboard(text, element) {\n",
              "    // Get the parameter prefix from the closest toggleable content\n",
              "    const toggleableContent = element.closest('.sk-toggleable__content');\n",
              "    const paramPrefix = toggleableContent ? toggleableContent.dataset.paramPrefix : '';\n",
              "    const fullParamName = paramPrefix ? `${paramPrefix}${text}` : text;\n",
              "\n",
              "    const originalStyle = element.style;\n",
              "    const computedStyle = window.getComputedStyle(element);\n",
              "    const originalWidth = computedStyle.width;\n",
              "    const originalHTML = element.innerHTML.replace('Copied!', '');\n",
              "\n",
              "    navigator.clipboard.writeText(fullParamName)\n",
              "        .then(() => {\n",
              "            element.style.width = originalWidth;\n",
              "            element.style.color = 'green';\n",
              "            element.innerHTML = \"Copied!\";\n",
              "\n",
              "            setTimeout(() => {\n",
              "                element.innerHTML = originalHTML;\n",
              "                element.style = originalStyle;\n",
              "            }, 2000);\n",
              "        })\n",
              "        .catch(err => {\n",
              "            console.error('Failed to copy:', err);\n",
              "            element.style.color = 'red';\n",
              "            element.innerHTML = \"Failed!\";\n",
              "            setTimeout(() => {\n",
              "                element.innerHTML = originalHTML;\n",
              "                element.style = originalStyle;\n",
              "            }, 2000);\n",
              "        });\n",
              "    return false;\n",
              "}\n",
              "\n",
              "document.querySelectorAll('.fa-regular.fa-copy').forEach(function(element) {\n",
              "    const toggleableContent = element.closest('.sk-toggleable__content');\n",
              "    const paramPrefix = toggleableContent ? toggleableContent.dataset.paramPrefix : '';\n",
              "    const paramName = element.parentElement.nextElementSibling.textContent.trim();\n",
              "    const fullParamName = paramPrefix ? `${paramPrefix}${paramName}` : paramName;\n",
              "\n",
              "    element.setAttribute('title', fullParamName);\n",
              "});\n",
              "</script></body>"
            ],
            "text/plain": [
              "LinearRegression()"
            ]
          },
          "execution_count": 10,
          "metadata": {},
          "output_type": "execute_result"
        }
      ],
      "source": [
        "linear_model.fit(X_train_norm, y_train_norm)"
      ]
    },
    {
      "cell_type": "code",
      "execution_count": 11,
      "id": "127916a1",
      "metadata": {
        "id": "127916a1"
      },
      "outputs": [],
      "source": [
        "norm_predict = linear_model.predict(X_test_norm)"
      ]
    },
    {
      "cell_type": "code",
      "execution_count": 12,
      "id": "029acd63",
      "metadata": {
        "id": "029acd63"
      },
      "outputs": [],
      "source": [
        "# Limiting the values between 0 and 6\n",
        "import numpy as np\n",
        "norm_predict = np.clip(norm_predict, 0, 6)\n"
      ]
    },
    {
      "cell_type": "markdown",
      "id": "7b24357e",
      "metadata": {
        "id": "7b24357e"
      },
      "source": [
        "### Residual Analysis"
      ]
    },
    {
      "cell_type": "code",
      "execution_count": 13,
      "id": "BDIAz2Leyq_N",
      "metadata": {
        "colab": {
          "base_uri": "https://localhost:8080/",
          "height": 36
        },
        "id": "BDIAz2Leyq_N",
        "outputId": "f7351575-1a93-45fb-99c2-3dd908fdd8bb"
      },
      "outputs": [
        {
          "data": {
            "text/plain": [
              "'Cannabis ~ Age + Gender + Education + Nscore + Escore + Oscore + AScore + Cscore + Impulsive + SS'"
            ]
          },
          "execution_count": 13,
          "metadata": {},
          "output_type": "execute_result"
        }
      ],
      "source": [
        "columns = norm_df.columns\n",
        "formula = 'Cannabis ~ ' + ' + '.join(columns[:-1])\n",
        "formula\n"
      ]
    },
    {
      "cell_type": "code",
      "execution_count": 14,
      "id": "dc37c6f5",
      "metadata": {
        "id": "dc37c6f5"
      },
      "outputs": [],
      "source": [
        "model = smf.ols(formula, norm_df).fit()"
      ]
    },
    {
      "cell_type": "code",
      "execution_count": 15,
      "id": "x_9vVS8fzhZ_",
      "metadata": {
        "colab": {
          "base_uri": "https://localhost:8080/",
          "height": 458
        },
        "id": "x_9vVS8fzhZ_",
        "outputId": "6645cead-509e-43b8-a99e-a143abfed3cb"
      },
      "outputs": [
        {
          "data": {
            "text/plain": [
              "0      -2.307731\n",
              "1       0.028005\n",
              "2       0.114695\n",
              "3      -0.726549\n",
              "4       0.988087\n",
              "          ...   \n",
              "1880   -0.355303\n",
              "1881   -1.675768\n",
              "1882    3.517644\n",
              "1883    0.762937\n",
              "1884   -1.964323\n",
              "Length: 1885, dtype: float64"
            ]
          },
          "execution_count": 15,
          "metadata": {},
          "output_type": "execute_result"
        }
      ],
      "source": [
        "model.resid"
      ]
    },
    {
      "cell_type": "code",
      "execution_count": 16,
      "id": "Y6Y_8DRY0jxz",
      "metadata": {
        "id": "Y6Y_8DRY0jxz"
      },
      "outputs": [],
      "source": [
        "resid = np.clip(model.resid, 0, 6)"
      ]
    },
    {
      "cell_type": "markdown",
      "id": "ty_IOBCWz5LB",
      "metadata": {
        "id": "ty_IOBCWz5LB"
      },
      "source": [
        "#### Redisual Normality"
      ]
    },
    {
      "cell_type": "code",
      "execution_count": 17,
      "id": "e32tcLQfz_HI",
      "metadata": {
        "colab": {
          "base_uri": "https://localhost:8080/"
        },
        "id": "e32tcLQfz_HI",
        "outputId": "ea0dd271-180c-47cb-9bf7-0dcc5c5de047"
      },
      "outputs": [
        {
          "data": {
            "text/plain": [
              "np.float64(9.665737456731236e-49)"
            ]
          },
          "execution_count": 17,
          "metadata": {},
          "output_type": "execute_result"
        }
      ],
      "source": [
        "_, p = stats.shapiro(resid)\n",
        "p"
      ]
    },
    {
      "cell_type": "code",
      "execution_count": 18,
      "id": "PsER-Sf60esx",
      "metadata": {
        "colab": {
          "base_uri": "https://localhost:8080/",
          "height": 472
        },
        "id": "PsER-Sf60esx",
        "outputId": "0fbb5bc3-9fac-47cf-94bd-1fe5ca4fb429"
      },
      "outputs": [
        {
          "data": {
            "image/png": "[encoded data removed]",
            "text/plain": [
              "<Figure size 640x480 with 1 Axes>"
            ]
          },
          "metadata": {},
          "output_type": "display_data"
        }
      ],
      "source": [
        "stats.probplot(resid, dist='norm', plot=plt)\n",
        "plt.title('Q-Q plot');"
      ]
    },
    {
      "cell_type": "code",
      "execution_count": 19,
      "id": "aAZDB0hD011A",
      "metadata": {
        "colab": {
          "base_uri": "https://localhost:8080/",
          "height": 534
        },
        "id": "aAZDB0hD011A",
        "outputId": "5695ddd3-d00e-477b-a925-0b9966877839"
      },
      "outputs": [
        {
          "data": {
            "text/plain": [
              "(array([1202.,  175.,  166.,  117.,   94.,   57.,   32.,   25.,   11.,\n",
              "           6.]),\n",
              " array([0.        , 0.54406279, 1.08812558, 1.63218837, 2.17625116,\n",
              "        2.72031395, 3.26437674, 3.80843953, 4.35250232, 4.8965651 ,\n",
              "        5.44062789]),\n",
              " <BarContainer object of 10 artists>)"
            ]
          },
          "execution_count": 19,
          "metadata": {},
          "output_type": "execute_result"
        },
        {
          "data": {
            "image/png": "[encoded data removed]",
            "text/plain": [
              "<Figure size 640x480 with 1 Axes>"
            ]
          },
          "metadata": {},
          "output_type": "display_data"
        }
      ],
      "source": [
        "plt.hist(resid)"
      ]
    },
    {
      "cell_type": "markdown",
      "id": "T-Ov37461JFO",
      "metadata": {
        "id": "T-Ov37461JFO"
      },
      "source": [
        "#### Residual Homoscedasticity\n",
        "- true - p > 0.5\n",
        "- false - p <= 0.5"
      ]
    },
    {
      "cell_type": "code",
      "execution_count": 20,
      "id": "jzAoDb8A1Pbe",
      "metadata": {
        "colab": {
          "base_uri": "https://localhost:8080/",
          "height": 447
        },
        "id": "jzAoDb8A1Pbe",
        "outputId": "61c12619-79b6-470e-ae26-f25765ac1852"
      },
      "outputs": [
        {
          "data": {
            "text/plain": [
              "<matplotlib.collections.LineCollection at 0x24ab521f910>"
            ]
          },
          "execution_count": 20,
          "metadata": {},
          "output_type": "execute_result"
        },
        {
          "data": {
            "image/png": "[encoded data removed]",
            "text/plain": [
              "<Figure size 640x480 with 1 Axes>"
            ]
          },
          "metadata": {},
          "output_type": "display_data"
        }
      ],
      "source": [
        "plt.scatter(y=resid, x=np.clip(model.predict(), 0, 6), color='red')\n",
        "plt.hlines(y=0, xmin=-2, xmax=8, color='orange')"
      ]
    },
    {
      "cell_type": "code",
      "execution_count": 21,
      "id": "CcAw-amY1-ei",
      "metadata": {
        "colab": {
          "base_uri": "https://localhost:8080/"
        },
        "id": "CcAw-amY1-ei",
        "outputId": "975e0488-c05a-47f9-eada-9612d9cb9269"
      },
      "outputs": [
        {
          "data": {
            "text/plain": [
              "np.float64(0.00015726517284537922)"
            ]
          },
          "execution_count": 21,
          "metadata": {},
          "output_type": "execute_result"
        }
      ],
      "source": [
        "_, p, _, _ = sms.het_breuschpagan(resid, np.clip(model.model.exog, 0, 6))\n",
        "p"
      ]
    },
    {
      "cell_type": "markdown",
      "id": "1JsH2kQA21VA",
      "metadata": {
        "id": "1JsH2kQA21VA"
      },
      "source": [
        "#### Outliers\n",
        "- Between 3 and -3"
      ]
    },
    {
      "cell_type": "code",
      "execution_count": 22,
      "id": "-9QLUpWj23R6",
      "metadata": {
        "colab": {
          "base_uri": "https://localhost:8080/",
          "height": 178
        },
        "id": "-9QLUpWj23R6",
        "outputId": "70a39284-384d-4ca6-8578-08fe636c0191"
      },
      "outputs": [
        {
          "data": {
            "text/plain": [
              "student_resid    3.095557\n",
              "unadj_p          0.999733\n",
              "bonf(p)          1.000000\n",
              "dtype: float64"
            ]
          },
          "execution_count": 22,
          "metadata": {},
          "output_type": "execute_result"
        }
      ],
      "source": [
        "outliers = model.outlier_test()\n",
        "outliers.max()"
      ]
    },
    {
      "cell_type": "code",
      "execution_count": 23,
      "id": "rjThktyj2Q_E",
      "metadata": {
        "colab": {
          "base_uri": "https://localhost:8080/",
          "height": 178
        },
        "id": "rjThktyj2Q_E",
        "outputId": "9ef4377a-0a6d-4f43-f8b4-ad3d9ce8ccd2"
      },
      "outputs": [
        {
          "data": {
            "text/plain": [
              "student_resid   -2.967313\n",
              "unadj_p          0.001994\n",
              "bonf(p)          1.000000\n",
              "dtype: float64"
            ]
          },
          "execution_count": 23,
          "metadata": {},
          "output_type": "execute_result"
        }
      ],
      "source": [
        "outliers.min()"
      ]
    },
    {
      "cell_type": "markdown",
      "id": "7qcS1fWo3WvD",
      "metadata": {
        "id": "7qcS1fWo3WvD"
      },
      "source": [
        "#### Multicollinearity test\n",
        "- r > 0.9"
      ]
    },
    {
      "cell_type": "code",
      "execution_count": 24,
      "id": "B2l685QM3jWx",
      "metadata": {
        "colab": {
          "base_uri": "https://localhost:8080/",
          "height": 81
        },
        "id": "B2l685QM3jWx",
        "outputId": "e9eabca6-70f6-497f-af4b-5b590998bb19"
      },
      "outputs": [
        {
          "data": {
            "text/html": [
              "<div>\n",
              "<style scoped>\n",
              "    .dataframe tbody tr th:only-of-type {\n",
              "        vertical-align: middle;\n",
              "    }\n",
              "\n",
              "    .dataframe tbody tr th {\n",
              "        vertical-align: top;\n",
              "    }\n",
              "\n",
              "    .dataframe thead th {\n",
              "        text-align: right;\n",
              "    }\n",
              "</style>\n",
              "<table border=\"1\" class=\"dataframe\">\n",
              "  <thead>\n",
              "    <tr style=\"text-align: right;\">\n",
              "      <th></th>\n",
              "      <th>Age</th>\n",
              "      <th>Gender</th>\n",
              "      <th>Education</th>\n",
              "      <th>Nscore</th>\n",
              "      <th>Escore</th>\n",
              "      <th>Oscore</th>\n",
              "      <th>AScore</th>\n",
              "      <th>Cscore</th>\n",
              "      <th>Impulsive</th>\n",
              "      <th>SS</th>\n",
              "    </tr>\n",
              "  </thead>\n",
              "  <tbody>\n",
              "    <tr>\n",
              "      <th>0</th>\n",
              "      <td>0.500963</td>\n",
              "      <td>0.99841</td>\n",
              "      <td>-2.111593</td>\n",
              "      <td>0.31287</td>\n",
              "      <td>-0.57545</td>\n",
              "      <td>-0.58331</td>\n",
              "      <td>-0.91699</td>\n",
              "      <td>-0.00665</td>\n",
              "      <td>-0.21712</td>\n",
              "      <td>-1.18084</td>\n",
              "    </tr>\n",
              "  </tbody>\n",
              "</table>\n",
              "</div>"
            ],
            "text/plain": [
              "        Age   Gender  Education   Nscore   Escore   Oscore   AScore   Cscore  \\\n",
              "0  0.500963  0.99841  -2.111593  0.31287 -0.57545 -0.58331 -0.91699 -0.00665   \n",
              "\n",
              "   Impulsive       SS  \n",
              "0   -0.21712 -1.18084  "
            ]
          },
          "execution_count": 24,
          "metadata": {},
          "output_type": "execute_result"
        }
      ],
      "source": [
        "features = norm_df.drop('Cannabis', axis=1)\n",
        "features.head(1)"
      ]
    },
    {
      "cell_type": "code",
      "execution_count": 25,
      "id": "iRni--p33v_l",
      "metadata": {
        "colab": {
          "base_uri": "https://localhost:8080/",
          "height": 776
        },
        "id": "iRni--p33v_l",
        "outputId": "73e5752a-df64-4741-9836-5eb8811dcb99"
      },
      "outputs": [
        {
          "data": {
            "text/plain": [
              "<Axes: >"
            ]
          },
          "execution_count": 25,
          "metadata": {},
          "output_type": "execute_result"
        },
        {
          "data": {
            "image/png": "[encoded data removed]",
            "text/plain": [
              "<Figure size 1400x900 with 2 Axes>"
            ]
          },
          "metadata": {},
          "output_type": "display_data"
        }
      ],
      "source": [
        "correlation = features.corr(method='spearman')\n",
        "plt.figure(figsize=(14, 9))\n",
        "sns.heatmap(correlation, annot=True)"
      ]
    },
    {
      "cell_type": "markdown",
      "id": "13D_Dl2D6EJm",
      "metadata": {
        "id": "13D_Dl2D6EJm"
      },
      "source": [
        "#### Model Analysis\n",
        "- p_value for each feature | < 0.05, statistically significant"
      ]
    },
    {
      "cell_type": "code",
      "execution_count": 26,
      "id": "mKWi_SEH6ICm",
      "metadata": {
        "colab": {
          "base_uri": "https://localhost:8080/"
        },
        "id": "mKWi_SEH6ICm",
        "outputId": "9906c130-8d98-44c0-e87d-d22b358f6b9d"
      },
      "outputs": [
        {
          "name": "stdout",
          "output_type": "stream",
          "text": [
            "                            OLS Regression Results                            \n",
            "==============================================================================\n",
            "Dep. Variable:               Cannabis   R-squared:                       0.405\n",
            "Model:                            OLS   Adj. R-squared:                  0.402\n",
            "Method:                 Least Squares   F-statistic:                     127.8\n",
            "Date:                Thu, 16 Oct 2025   Prob (F-statistic):          2.36e-203\n",
            "Time:                        00:19:47   Log-Likelihood:                -3743.9\n",
            "No. Observations:                1885   AIC:                             7510.\n",
            "Df Residuals:                    1874   BIC:                             7571.\n",
            "Df Model:                          10                                         \n",
            "Covariance Type:            nonrobust                                         \n",
            "==============================================================================\n",
            "                 coef    std err          t      P>|t|      [0.025      0.975]\n",
            "------------------------------------------------------------------------------\n",
            "Intercept      2.9910      0.041     73.423      0.000       2.911       3.071\n",
            "Age           -0.6471      0.044    -14.651      0.000      -0.734      -0.560\n",
            "Gender         0.3461      0.044      7.823      0.000       0.259       0.433\n",
            "Education     -0.0309      0.041     -0.746      0.456      -0.112       0.050\n",
            "Nscore        -0.1139      0.050     -2.287      0.022      -0.212      -0.016\n",
            "Escore        -0.2453      0.050     -4.875      0.000      -0.344      -0.147\n",
            "Oscore         0.6125      0.047     13.119      0.000       0.521       0.704\n",
            "AScore        -0.0668      0.045     -1.499      0.134      -0.154       0.021\n",
            "Cscore        -0.2585      0.049     -5.280      0.000      -0.354      -0.162\n",
            "Impulsive      0.0203      0.057      0.355      0.723      -0.092       0.133\n",
            "SS             0.4883      0.061      8.049      0.000       0.369       0.607\n",
            "==============================================================================\n",
            "Omnibus:                       18.825   Durbin-Watson:                   1.708\n",
            "Prob(Omnibus):                  0.000   Jarque-Bera (JB):               18.606\n",
            "Skew:                           0.222   Prob(JB):                     9.11e-05\n",
            "Kurtosis:                       2.800   Cond. No.                         2.83\n",
            "==============================================================================\n",
            "\n",
            "Notes:\n",
            "[1] Standard Errors assume that the covariance matrix of the errors is correctly specified.\n"
          ]
        }
      ],
      "source": [
        "print(model.summary())"
      ]
    },
    {
      "cell_type": "code",
      "execution_count": 27,
      "id": "ongavdT28pnH",
      "metadata": {
        "colab": {
          "base_uri": "https://localhost:8080/",
          "height": 81
        },
        "id": "ongavdT28pnH",
        "outputId": "39fd8962-0e1e-4fff-e4ea-029cf43dae2b"
      },
      "outputs": [
        {
          "data": {
            "text/html": [
              "<div>\n",
              "<style scoped>\n",
              "    .dataframe tbody tr th:only-of-type {\n",
              "        vertical-align: middle;\n",
              "    }\n",
              "\n",
              "    .dataframe tbody tr th {\n",
              "        vertical-align: top;\n",
              "    }\n",
              "\n",
              "    .dataframe thead th {\n",
              "        text-align: right;\n",
              "    }\n",
              "</style>\n",
              "<table border=\"1\" class=\"dataframe\">\n",
              "  <thead>\n",
              "    <tr style=\"text-align: right;\">\n",
              "      <th></th>\n",
              "      <th>Age</th>\n",
              "      <th>Gender</th>\n",
              "      <th>Education</th>\n",
              "      <th>Nscore</th>\n",
              "      <th>Escore</th>\n",
              "      <th>Oscore</th>\n",
              "      <th>AScore</th>\n",
              "      <th>Cscore</th>\n",
              "      <th>Impulsive</th>\n",
              "      <th>SS</th>\n",
              "      <th>Cannabis</th>\n",
              "      <th>Prediction</th>\n",
              "    </tr>\n",
              "  </thead>\n",
              "  <tbody>\n",
              "    <tr>\n",
              "      <th>0</th>\n",
              "      <td>0.500963</td>\n",
              "      <td>0.99841</td>\n",
              "      <td>-2.111593</td>\n",
              "      <td>0.31287</td>\n",
              "      <td>-0.57545</td>\n",
              "      <td>-0.58331</td>\n",
              "      <td>-0.91699</td>\n",
              "      <td>-0.00665</td>\n",
              "      <td>-0.21712</td>\n",
              "      <td>-1.18084</td>\n",
              "      <td>0</td>\n",
              "      <td>2.307731</td>\n",
              "    </tr>\n",
              "  </tbody>\n",
              "</table>\n",
              "</div>"
            ],
            "text/plain": [
              "        Age   Gender  Education   Nscore   Escore   Oscore   AScore   Cscore  \\\n",
              "0  0.500963  0.99841  -2.111593  0.31287 -0.57545 -0.58331 -0.91699 -0.00665   \n",
              "\n",
              "   Impulsive       SS  Cannabis  Prediction  \n",
              "0   -0.21712 -1.18084         0    2.307731  "
            ]
          },
          "execution_count": 27,
          "metadata": {},
          "output_type": "execute_result"
        }
      ],
      "source": [
        "final_norm_df = norm_df.copy()\n",
        "final_norm_df['Prediction'] = np.clip(model.fittedvalues, 0, 6)\n",
        "final_norm_df.head(1)"
      ]
    },
    {
      "cell_type": "code",
      "execution_count": 28,
      "id": "BmW_Lun4-gFR",
      "metadata": {
        "colab": {
          "base_uri": "https://localhost:8080/",
          "height": 523
        },
        "id": "BmW_Lun4-gFR",
        "outputId": "23a826e2-ac44-4abf-c87a-0b46bfed1c8e"
      },
      "outputs": [
        {
          "data": {
            "text/plain": [
              "<seaborn.axisgrid.FacetGrid at 0x24ab52aa0d0>"
            ]
          },
          "execution_count": 28,
          "metadata": {},
          "output_type": "execute_result"
        },
        {
          "data": {
            "image/png": "[encoded data removed]",
            "text/plain": [
              "<Figure size 500x500 with 1 Axes>"
            ]
          },
          "metadata": {},
          "output_type": "display_data"
        }
      ],
      "source": [
        "sns.lmplot(y='Cannabis', x='Prediction', data=final_norm_df)"
      ]
    },
    {
      "cell_type": "markdown",
      "id": "IABUi3wf_C_4",
      "metadata": {
        "id": "IABUi3wf_C_4"
      },
      "source": [
        "### Predict SMOTEN Data"
      ]
    },
    {
      "cell_type": "code",
      "execution_count": 29,
      "id": "JCs5ag4k_bIx",
      "metadata": {
        "colab": {
          "base_uri": "https://localhost:8080/",
          "height": 36
        },
        "id": "JCs5ag4k_bIx",
        "outputId": "f50376c9-6950-4f69-9d9f-b4aa7df449b0"
      },
      "outputs": [
        {
          "data": {
            "text/plain": [
              "'Cannabis ~ Age + Gender + Education + Nscore + Escore + Oscore + AScore + Cscore + Impulsive + SS'"
            ]
          },
          "execution_count": 29,
          "metadata": {},
          "output_type": "execute_result"
        }
      ],
      "source": [
        "columns = smoten_df.columns\n",
        "formula = 'Cannabis ~ ' + ' + '.join(columns[:-1])\n",
        "formula"
      ]
    },
    {
      "cell_type": "code",
      "execution_count": 30,
      "id": "EClbwLov_drH",
      "metadata": {
        "id": "EClbwLov_drH"
      },
      "outputs": [],
      "source": [
        "model = smf.ols(formula, smoten_df).fit()"
      ]
    },
    {
      "cell_type": "code",
      "execution_count": 31,
      "id": "xDnOL-JQ_i-J",
      "metadata": {
        "colab": {
          "base_uri": "https://localhost:8080/",
          "height": 458
        },
        "id": "xDnOL-JQ_i-J",
        "outputId": "177b8ab6-ed50-49ce-f3e0-a0065b013fc9"
      },
      "outputs": [
        {
          "data": {
            "text/plain": [
              "0      -2.086159\n",
              "1       0.193249\n",
              "2       0.190751\n",
              "3      -0.699582\n",
              "4       1.150154\n",
              "          ...   \n",
              "3236    0.638560\n",
              "3237   -0.250742\n",
              "3238    0.805905\n",
              "3239   -0.661569\n",
              "3240    0.158027\n",
              "Length: 3241, dtype: float64"
            ]
          },
          "execution_count": 31,
          "metadata": {},
          "output_type": "execute_result"
        }
      ],
      "source": [
        "model.resid"
      ]
    },
    {
      "cell_type": "code",
      "execution_count": 32,
      "id": "RBCfyLwu_mMI",
      "metadata": {
        "id": "RBCfyLwu_mMI"
      },
      "outputs": [],
      "source": [
        "resid = np.clip(model.resid, 0, 6)"
      ]
    },
    {
      "cell_type": "markdown",
      "id": "gq5ls8Ht_rKS",
      "metadata": {
        "id": "gq5ls8Ht_rKS"
      },
      "source": [
        "#### Residual Normality"
      ]
    },
    {
      "cell_type": "code",
      "execution_count": 33,
      "id": "vBRTGVDx_tjL",
      "metadata": {
        "colab": {
          "base_uri": "https://localhost:8080/"
        },
        "id": "vBRTGVDx_tjL",
        "outputId": "b79eac24-ac8d-449b-9e6c-33500dfafbb2"
      },
      "outputs": [
        {
          "data": {
            "text/plain": [
              "np.float64(1.1711968942765378e-60)"
            ]
          },
          "execution_count": 33,
          "metadata": {},
          "output_type": "execute_result"
        }
      ],
      "source": [
        "_, p = stats.shapiro(resid)\n",
        "p"
      ]
    },
    {
      "cell_type": "code",
      "execution_count": 34,
      "id": "eK3xJ8GT_xSI",
      "metadata": {
        "colab": {
          "base_uri": "https://localhost:8080/",
          "height": 472
        },
        "id": "eK3xJ8GT_xSI",
        "outputId": "88105c62-a6d3-45fb-8afb-0419d0ded732"
      },
      "outputs": [
        {
          "data": {
            "image/png": "[encoded data removed]",
            "text/plain": [
              "<Figure size 640x480 with 1 Axes>"
            ]
          },
          "metadata": {},
          "output_type": "display_data"
        }
      ],
      "source": [
        "stats.probplot(resid, dist='norm', plot=plt)\n",
        "plt.title('Q-Q plot');"
      ]
    },
    {
      "cell_type": "code",
      "execution_count": 35,
      "id": "3Z19rpplAA2u",
      "metadata": {
        "colab": {
          "base_uri": "https://localhost:8080/",
          "height": 430
        },
        "id": "3Z19rpplAA2u",
        "outputId": "ec43ca0a-84aa-4ea8-85e5-05a1eddf50c4"
      },
      "outputs": [
        {
          "data": {
            "image/png": "[encoded data removed]",
            "text/plain": [
              "<Figure size 640x480 with 1 Axes>"
            ]
          },
          "metadata": {},
          "output_type": "display_data"
        }
      ],
      "source": [
        "plt.hist(resid);"
      ]
    },
    {
      "cell_type": "markdown",
      "id": "8Chf_WlmAJJM",
      "metadata": {
        "id": "8Chf_WlmAJJM"
      },
      "source": [
        "#### Residual Homocedasticity"
      ]
    },
    {
      "cell_type": "code",
      "execution_count": 36,
      "id": "FAT7PsAyAPTG",
      "metadata": {
        "colab": {
          "base_uri": "https://localhost:8080/",
          "height": 447
        },
        "id": "FAT7PsAyAPTG",
        "outputId": "698806c9-cd83-40a9-9a36-ae8f3a08a4ce"
      },
      "outputs": [
        {
          "data": {
            "text/plain": [
              "<matplotlib.collections.LineCollection at 0x24ab5414310>"
            ]
          },
          "execution_count": 36,
          "metadata": {},
          "output_type": "execute_result"
        },
        {
          "data": {
            "image/png": "[encoded data removed]",
            "text/plain": [
              "<Figure size 640x480 with 1 Axes>"
            ]
          },
          "metadata": {},
          "output_type": "display_data"
        }
      ],
      "source": [
        "plt.scatter(y=resid, x=np.clip(model.predict(), 0, 6), color='red')\n",
        "plt.hlines(y=0, xmin=-2, xmax=8, color='orange')"
      ]
    },
    {
      "cell_type": "code",
      "execution_count": 37,
      "id": "YOllFJDZAYNB",
      "metadata": {
        "colab": {
          "base_uri": "https://localhost:8080/"
        },
        "id": "YOllFJDZAYNB",
        "outputId": "5be039ae-d92c-49cd-9222-328ccea0a72c"
      },
      "outputs": [
        {
          "data": {
            "text/plain": [
              "np.float64(2.3094822624752207e-11)"
            ]
          },
          "execution_count": 37,
          "metadata": {},
          "output_type": "execute_result"
        }
      ],
      "source": [
        "_, p, _, _ = sms.het_breuschpagan(resid, np.clip(model.model.exog, 0, 6))\n",
        "p"
      ]
    },
    {
      "cell_type": "markdown",
      "id": "xB7cLlamAgWT",
      "metadata": {
        "id": "xB7cLlamAgWT"
      },
      "source": [
        "#### Outliers Test"
      ]
    },
    {
      "cell_type": "code",
      "execution_count": 38,
      "id": "MMrtj-1jAiMB",
      "metadata": {
        "colab": {
          "base_uri": "https://localhost:8080/",
          "height": 178
        },
        "id": "MMrtj-1jAiMB",
        "outputId": "e75e37ce-2fe0-4f4c-9ca6-d579f5ae1181"
      },
      "outputs": [
        {
          "data": {
            "text/plain": [
              "student_resid    3.545836\n",
              "unadj_p          0.999739\n",
              "bonf(p)          1.000000\n",
              "dtype: float64"
            ]
          },
          "execution_count": 38,
          "metadata": {},
          "output_type": "execute_result"
        }
      ],
      "source": [
        "outliers = model.outlier_test()\n",
        "outliers.max()"
      ]
    },
    {
      "cell_type": "code",
      "execution_count": 39,
      "id": "AgZDL6pZAjSz",
      "metadata": {
        "colab": {
          "base_uri": "https://localhost:8080/",
          "height": 178
        },
        "id": "AgZDL6pZAjSz",
        "outputId": "a371971d-e9aa-4d03-afc1-a2be30410fe3"
      },
      "outputs": [
        {
          "data": {
            "text/plain": [
              "student_resid   -3.325106\n",
              "unadj_p          0.000397\n",
              "bonf(p)          1.000000\n",
              "dtype: float64"
            ]
          },
          "execution_count": 39,
          "metadata": {},
          "output_type": "execute_result"
        }
      ],
      "source": [
        "outliers.min()"
      ]
    },
    {
      "cell_type": "markdown",
      "id": "QU05uyL_AtYK",
      "metadata": {
        "id": "QU05uyL_AtYK"
      },
      "source": [
        "#### Model Analysis"
      ]
    },
    {
      "cell_type": "code",
      "execution_count": 40,
      "id": "TRDrS_5FAu85",
      "metadata": {
        "colab": {
          "base_uri": "https://localhost:8080/"
        },
        "id": "TRDrS_5FAu85",
        "outputId": "f928c6b1-5a05-4e80-9531-b5417edb02f1"
      },
      "outputs": [
        {
          "name": "stdout",
          "output_type": "stream",
          "text": [
            "                            OLS Regression Results                            \n",
            "==============================================================================\n",
            "Dep. Variable:               Cannabis   R-squared:                       0.416\n",
            "Model:                            OLS   Adj. R-squared:                  0.415\n",
            "Method:                 Least Squares   F-statistic:                     230.5\n",
            "Date:                Thu, 16 Oct 2025   Prob (F-statistic):               0.00\n",
            "Time:                        00:19:55   Log-Likelihood:                -5972.5\n",
            "No. Observations:                3241   AIC:                         1.197e+04\n",
            "Df Residuals:                    3230   BIC:                         1.203e+04\n",
            "Df Model:                          10                                         \n",
            "Covariance Type:            nonrobust                                         \n",
            "==============================================================================\n",
            "                 coef    std err          t      P>|t|      [0.025      0.975]\n",
            "------------------------------------------------------------------------------\n",
            "Intercept      2.9066      0.029    100.088      0.000       2.850       2.964\n",
            "Age           -0.6731      0.031    -21.700      0.000      -0.734      -0.612\n",
            "Gender         0.3060      0.029     10.522      0.000       0.249       0.363\n",
            "Education      0.0112      0.030      0.375      0.708      -0.047       0.070\n",
            "Nscore         0.0011      0.029      0.039      0.969      -0.056       0.058\n",
            "Escore        -0.1285      0.032     -4.050      0.000      -0.191      -0.066\n",
            "Oscore         0.5125      0.032     15.833      0.000       0.449       0.576\n",
            "AScore        -0.0255      0.030     -0.849      0.396      -0.085       0.033\n",
            "Cscore        -0.2079      0.033     -6.308      0.000      -0.273      -0.143\n",
            "Impulsive     -0.0187      0.040     -0.473      0.636      -0.096       0.059\n",
            "SS             0.4821      0.043     11.201      0.000       0.398       0.567\n",
            "==============================================================================\n",
            "Omnibus:                       63.529   Durbin-Watson:                   1.556\n",
            "Prob(Omnibus):                  0.000   Jarque-Bera (JB):               68.645\n",
            "Skew:                           0.321   Prob(JB):                     1.24e-15\n",
            "Kurtosis:                       3.311   Cond. No.                         2.87\n",
            "==============================================================================\n",
            "\n",
            "Notes:\n",
            "[1] Standard Errors assume that the covariance matrix of the errors is correctly specified.\n"
          ]
        }
      ],
      "source": [
        "print(model.summary())"
      ]
    },
    {
      "cell_type": "code",
      "execution_count": 41,
      "id": "hiEzGZmzA33q",
      "metadata": {
        "colab": {
          "base_uri": "https://localhost:8080/",
          "height": 81
        },
        "id": "hiEzGZmzA33q",
        "outputId": "ddf000ff-aecb-4684-8d6e-e54abe7fa379"
      },
      "outputs": [
        {
          "data": {
            "text/html": [
              "<div>\n",
              "<style scoped>\n",
              "    .dataframe tbody tr th:only-of-type {\n",
              "        vertical-align: middle;\n",
              "    }\n",
              "\n",
              "    .dataframe tbody tr th {\n",
              "        vertical-align: top;\n",
              "    }\n",
              "\n",
              "    .dataframe thead th {\n",
              "        text-align: right;\n",
              "    }\n",
              "</style>\n",
              "<table border=\"1\" class=\"dataframe\">\n",
              "  <thead>\n",
              "    <tr style=\"text-align: right;\">\n",
              "      <th></th>\n",
              "      <th>Age</th>\n",
              "      <th>Gender</th>\n",
              "      <th>Education</th>\n",
              "      <th>Nscore</th>\n",
              "      <th>Escore</th>\n",
              "      <th>Oscore</th>\n",
              "      <th>AScore</th>\n",
              "      <th>Cscore</th>\n",
              "      <th>Impulsive</th>\n",
              "      <th>SS</th>\n",
              "      <th>Cannabis</th>\n",
              "      <th>Prediction</th>\n",
              "    </tr>\n",
              "  </thead>\n",
              "  <tbody>\n",
              "    <tr>\n",
              "      <th>0</th>\n",
              "      <td>0.500963</td>\n",
              "      <td>0.99841</td>\n",
              "      <td>-2.111593</td>\n",
              "      <td>0.31287</td>\n",
              "      <td>-0.57545</td>\n",
              "      <td>-0.58331</td>\n",
              "      <td>-0.91699</td>\n",
              "      <td>-0.00665</td>\n",
              "      <td>-0.21712</td>\n",
              "      <td>-1.18084</td>\n",
              "      <td>0</td>\n",
              "      <td>2.086159</td>\n",
              "    </tr>\n",
              "  </tbody>\n",
              "</table>\n",
              "</div>"
            ],
            "text/plain": [
              "        Age   Gender  Education   Nscore   Escore   Oscore   AScore   Cscore  \\\n",
              "0  0.500963  0.99841  -2.111593  0.31287 -0.57545 -0.58331 -0.91699 -0.00665   \n",
              "\n",
              "   Impulsive       SS  Cannabis  Prediction  \n",
              "0   -0.21712 -1.18084         0    2.086159  "
            ]
          },
          "execution_count": 41,
          "metadata": {},
          "output_type": "execute_result"
        }
      ],
      "source": [
        "final_smoten_df = smoten_df.copy()\n",
        "final_smoten_df['Prediction'] = np.clip(model.fittedvalues, 0, 6)\n",
        "final_smoten_df.head(1)"
      ]
    },
    {
      "cell_type": "code",
      "execution_count": 42,
      "id": "hTsKEUAtA53N",
      "metadata": {
        "colab": {
          "base_uri": "https://localhost:8080/",
          "height": 523
        },
        "id": "hTsKEUAtA53N",
        "outputId": "dd12d09a-0e88-4dfa-cc24-c7bc8c40d01b"
      },
      "outputs": [
        {
          "data": {
            "text/plain": [
              "<seaborn.axisgrid.FacetGrid at 0x24ab55ebbd0>"
            ]
          },
          "execution_count": 42,
          "metadata": {},
          "output_type": "execute_result"
        },
        {
          "data": {
            "image/png": "[encoded data removed]",
            "text/plain": [
              "<Figure size 500x500 with 1 Axes>"
            ]
          },
          "metadata": {},
          "output_type": "display_data"
        }
      ],
      "source": [
        "sns.lmplot(x='Prediction', y='Cannabis', data=final_smoten_df)"
      ]
    }
  ],
  "metadata": {
    "colab": {
      "collapsed_sections": [
        "01b4bcd7",
        "525e9fa4"
      ],
      "provenance": []
    },
    "kernelspec": {
      "display_name": "Python 3",
      "language": "python",
      "name": "python3"
    },
    "language_info": {
      "codemirror_mode": {
        "name": "ipython",
        "version": 3
      },
      "file_extension": ".py",
      "mimetype": "text/x-python",
      "name": "python",
      "nbconvert_exporter": "python",
      "pygments_lexer": "ipython3",
      "version": "3.11.3"
    }
  },
  "nbformat": 4,
  "nbformat_minor": 5
}
